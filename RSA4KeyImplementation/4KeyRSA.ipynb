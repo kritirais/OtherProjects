{
 "cells": [
  {
   "cell_type": "code",
   "execution_count": null,
   "metadata": {
    "colab": {
     "base_uri": "https://localhost:8080/"
    },
    "id": "dCTTFa1UhQdG",
    "outputId": "d3813f1f-8da8-4264-c16e-8eeb1556089b"
   },
   "outputs": [],
   "source": [
    "!pip install primePy\n",
    "import math\n",
    "import random\n",
    "from primePy import primes"
   ]
  },
  {
   "cell_type": "code",
   "execution_count": null,
   "metadata": {
    "id": "QPSbjguvA4BB"
   },
   "outputs": [],
   "source": [
    "#rabin-miller test for checking if the generated numbers are prime or not\n",
    "def checkprime(num, k):\n",
    "    if num == 2:\n",
    "        return True\n",
    "    elif num % 2 == 0:\n",
    "        return False\n",
    "    \n",
    "    r, s = 0, num - 1\n",
    "    while s % 2 == 0:\n",
    "        r += 1\n",
    "        s //= 2\n",
    "    for _ in range(k):\n",
    "        a = random.randrange(2, num - 1)\n",
    "        x = pow(a, s, num)\n",
    "        if x == 1 or x == num - 1:\n",
    "            continue\n",
    "        for _ in range(r - 1):\n",
    "            x = pow(x, 2, num)\n",
    "            if x == num - 1:\n",
    "                break\n",
    "            else:\n",
    "                return False\n",
    "    return True"
   ]
  },
  {
   "cell_type": "code",
   "execution_count": null,
   "metadata": {
    "id": "B0NIdSCcBbVI"
   },
   "outputs": [],
   "source": [
    "check = False\n",
    "iter = 1\n",
    "while not check:\n",
    "    print('Iteration: {}'.format(iter))\n",
    "    p = random.randint(2, 999)\n",
    "    q = random.randint(2, 999)\n",
    "    r = random.randint(2, 999)\n",
    "    s = random.randint(2, 999)\n",
    "    \n",
    "    print('Random values for p, q, r and s are {}, {}, {} and {} respectively.'.format(p, q, r, s))\n",
    "    if p == q or p == r or p == s or q == r or q == s or r == s:\n",
    "        check = False\n",
    "    elif checkprime(p, 999) and checkprime(q, 999) and checkprime(r, 999) and checkprime(s, 999):\n",
    "        if primes.check(p) and primes.check(q) and primes.check(r) and primes.check(s):\n",
    "            check = True\n",
    "    else:\n",
    "        check = False\n",
    "    iter = iter + 1\n",
    "    print()"
   ]
  },
  {
   "cell_type": "code",
   "execution_count": null,
   "metadata": {
    "colab": {
     "base_uri": "https://localhost:8080/"
    },
    "id": "Yr_TCBzwiwIS",
    "outputId": "446119f8-4d87-42d6-f9c5-7a37bf4c22d5"
   },
   "outputs": [],
   "source": [
    "print(\"Computing n and the Euler's totient function.\")\n",
    "n = p * q * r * s\n",
    "phi = (p-1) * (q-1) * (r-1) * (s-1)\n",
    "print(\"p: {}, q: {}, r: {}, s: {}, n: {} and phi: {}\".format(p, q, r, s, n, phi))"
   ]
  },
  {
   "cell_type": "code",
   "execution_count": null,
   "metadata": {
    "colab": {
     "base_uri": "https://localhost:8080/"
    },
    "id": "8oakCbcZjMlj",
    "outputId": "fba4589b-4d62-4224-ecd5-9e12cdccf358"
   },
   "outputs": [],
   "source": [
    "print('Generating the public key for encryption.')\n",
    "for temp in range (2, phi):\n",
    "    if math.gcd(temp, phi) == 1:\n",
    "        e = temp\n",
    "        break\n",
    "print(\"Public key is: ({}, {})\".format(e, n))\n",
    "print()"
   ]
  },
  {
   "cell_type": "code",
   "execution_count": null,
   "metadata": {
    "colab": {
     "base_uri": "https://localhost:8080/"
    },
    "id": "Xw1b_TVcj10q",
    "outputId": "5567eabc-8ed7-40ae-e88a-8f6318d58423"
   },
   "outputs": [],
   "source": [
    "print('Generating the private key for decryption.')\n",
    "for num in range(2, phi):\n",
    "    if ((e*num) - 1) % phi == 0:\n",
    "        d = num\n",
    "        break\n",
    "print(\"Private key is: ({}, {})\".format(d, n))\n",
    "print()"
   ]
  },
  {
   "cell_type": "code",
   "execution_count": null,
   "metadata": {
    "colab": {
     "base_uri": "https://localhost:8080/"
    },
    "id": "0RbNcbjkjlmf",
    "outputId": "0231f8ec-47f4-4baa-8a88-f6d5b41c2419"
   },
   "outputs": [],
   "source": [
    "print('Encryption process')\n",
    "plainText = 'go'\n",
    "plainTextascii = int(''.join(str(ord(c) - 96) for c in plainText))\n",
    "print(\"Message to be encrypted is: {} ({})\".format(plainTextascii, plainText))\n",
    "\n",
    "cipherText = (plainTextascii ** e) % n\n",
    "print(\"Encrypted Cipher text is: {}\".format(cipherText))\n",
    "print()"
   ]
  },
  {
   "cell_type": "code",
   "execution_count": null,
   "metadata": {
    "colab": {
     "base_uri": "https://localhost:8080/"
    },
    "id": "NFoCJmjIkEUW",
    "outputId": "ad3e0c2b-bb53-43de-f091-4fbf95605192"
   },
   "outputs": [],
   "source": [
    "print('Decryption process')\n",
    "plainTextDecrypted = (cipherText ** d) % n\n",
    "print(\"Decrypted Cipher text is: {}\".format(plainTextDecrypted))\n",
    "print()"
   ]
  },
  {
   "cell_type": "code",
   "execution_count": null,
   "metadata": {
    "id": "T0PsPA9fkHmH"
   },
   "outputs": [],
   "source": [
    "if plainTextascii == plainTextDecrypted:\n",
    "    print('Algorithm successfully verified.')\n",
    "else:\n",
    "    print('Error in algorithm.')"
   ]
  }
 ],
 "metadata": {
  "colab": {
   "name": "4KeyRSA.ipynb",
   "provenance": []
  },
  "kernelspec": {
   "display_name": "Python 3 (ipykernel)",
   "language": "python",
   "name": "python3"
  },
  "language_info": {
   "codemirror_mode": {
    "name": "ipython",
    "version": 3
   },
   "file_extension": ".py",
   "mimetype": "text/x-python",
   "name": "python",
   "nbconvert_exporter": "python",
   "pygments_lexer": "ipython3",
   "version": "3.9.7"
  }
 },
 "nbformat": 4,
 "nbformat_minor": 1
}

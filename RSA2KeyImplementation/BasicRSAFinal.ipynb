{
 "cells": [
  {
   "cell_type": "code",
   "execution_count": 1,
   "metadata": {
    "id": "GY-UB8IRUSQu"
   },
   "outputs": [],
   "source": [
    "import math\n",
    "import random\n",
    "from primePy import primes"
   ]
  },
  {
   "cell_type": "code",
   "execution_count": 2,
   "metadata": {
    "id": "vxVI_bIRDJRS"
   },
   "outputs": [],
   "source": [
    "#rabin-miller test for checking if the generated numbers are prime or not\n",
    "def checkprime(num, k):\n",
    "    if num == 2:\n",
    "        return True\n",
    "    elif num % 2 == 0:\n",
    "        return False\n",
    "    \n",
    "    r, s = 0, num - 1\n",
    "    while s % 2 == 0:\n",
    "        r += 1\n",
    "        s //= 2\n",
    "    for _ in range(k):\n",
    "        a = random.randrange(2, num - 1)\n",
    "        x = pow(a, s, num)\n",
    "        if x == 1 or x == num - 1:\n",
    "            continue\n",
    "        for _ in range(r - 1):\n",
    "            x = pow(x, 2, num)\n",
    "            if x == num - 1:\n",
    "                break\n",
    "            else:\n",
    "                return False\n",
    "    return True"
   ]
  },
  {
   "cell_type": "code",
   "execution_count": 12,
   "metadata": {
    "colab": {
     "base_uri": "https://localhost:8080/"
    },
    "id": "DZrhQX2zDvNR",
    "outputId": "9969d7ff-9eec-4968-cec2-c8241245b830",
    "scrolled": true
   },
   "outputs": [
    {
     "name": "stdout",
     "output_type": "stream",
     "text": [
      "Iteration: 1\n",
      "Random values for p and q are 65 and 8 respectively.\n",
      "\n",
      "Iteration: 2\n",
      "Random values for p and q are 95 and 87 respectively.\n",
      "\n",
      "Iteration: 3\n",
      "Random values for p and q are 98 and 53 respectively.\n",
      "\n",
      "Iteration: 4\n",
      "Random values for p and q are 68 and 50 respectively.\n",
      "\n",
      "Iteration: 5\n",
      "Random values for p and q are 35 and 71 respectively.\n",
      "\n",
      "Iteration: 6\n",
      "Random values for p and q are 15 and 98 respectively.\n",
      "\n",
      "Iteration: 7\n",
      "Random values for p and q are 49 and 95 respectively.\n",
      "\n",
      "Iteration: 8\n",
      "Random values for p and q are 81 and 55 respectively.\n",
      "\n",
      "Iteration: 9\n",
      "Random values for p and q are 93 and 93 respectively.\n",
      "\n",
      "Iteration: 10\n",
      "Random values for p and q are 78 and 78 respectively.\n",
      "\n",
      "Iteration: 11\n",
      "Random values for p and q are 53 and 81 respectively.\n",
      "\n",
      "Iteration: 12\n",
      "Random values for p and q are 10 and 87 respectively.\n",
      "\n",
      "Iteration: 13\n",
      "Random values for p and q are 4 and 41 respectively.\n",
      "\n",
      "Iteration: 14\n",
      "Random values for p and q are 27 and 41 respectively.\n",
      "\n",
      "Iteration: 15\n",
      "Random values for p and q are 48 and 93 respectively.\n",
      "\n",
      "Iteration: 16\n",
      "Random values for p and q are 74 and 71 respectively.\n",
      "\n",
      "Iteration: 17\n",
      "Random values for p and q are 21 and 90 respectively.\n",
      "\n",
      "Iteration: 18\n",
      "Random values for p and q are 73 and 72 respectively.\n",
      "\n",
      "Iteration: 19\n",
      "Random values for p and q are 44 and 45 respectively.\n",
      "\n",
      "Iteration: 20\n",
      "Random values for p and q are 55 and 97 respectively.\n",
      "\n",
      "Iteration: 21\n",
      "Random values for p and q are 90 and 62 respectively.\n",
      "\n",
      "Iteration: 22\n",
      "Random values for p and q are 14 and 54 respectively.\n",
      "\n",
      "Iteration: 23\n",
      "Random values for p and q are 56 and 5 respectively.\n",
      "\n",
      "Iteration: 24\n",
      "Random values for p and q are 6 and 67 respectively.\n",
      "\n",
      "Iteration: 25\n",
      "Random values for p and q are 89 and 44 respectively.\n",
      "\n",
      "Iteration: 26\n",
      "Random values for p and q are 21 and 12 respectively.\n",
      "\n",
      "Iteration: 27\n",
      "Random values for p and q are 64 and 18 respectively.\n",
      "\n",
      "Iteration: 28\n",
      "Random values for p and q are 43 and 47 respectively.\n",
      "\n"
     ]
    }
   ],
   "source": [
    "#Generating two random prime numbers in the range 2-99. \n",
    "#Due to hardware constraints, the range was chosen, however you are encouraged to choose a higher range.\n",
    "check = False\n",
    "iter = 1\n",
    "while not check:\n",
    "    print('Iteration: {}'.format(iter))\n",
    "    p = random.randint(2, 99)\n",
    "    q = random.randint(2, 99)\n",
    "    print('Random values for p and q are {} and {} respectively.'.format(p, q))\n",
    "    if p == q:\n",
    "        check = False\n",
    "    elif checkprime(p, 99) and checkprime(q, 99):\n",
    "        if primes.check(p) and primes.check(q):\n",
    "            check = True\n",
    "    else:\n",
    "        check = False\n",
    "    iter = iter + 1\n",
    "    print()"
   ]
  },
  {
   "cell_type": "code",
   "execution_count": 13,
   "metadata": {
    "colab": {
     "base_uri": "https://localhost:8080/"
    },
    "id": "iSFgzqJnUW0U",
    "outputId": "84079e8b-522d-48f8-8ab1-fa64405a5d56"
   },
   "outputs": [
    {
     "name": "stdout",
     "output_type": "stream",
     "text": [
      "Computing n and the Euler's totient function.\n",
      "p: 43, q: 47, n: 2021 and phi: 1932\n"
     ]
    }
   ],
   "source": [
    "#Computing n and phi\n",
    "print(\"Computing n and the Euler's totient function.\")\n",
    "n = p * q\n",
    "phi = (p-1) * (q-1)\n",
    "print(\"p: {}, q: {}, n: {} and phi: {}\".format(p, q, n, phi))"
   ]
  },
  {
   "cell_type": "code",
   "execution_count": 14,
   "metadata": {
    "colab": {
     "base_uri": "https://localhost:8080/"
    },
    "id": "-TRt_CuNUxR_",
    "outputId": "2afabb10-08bf-4542-84bc-4a1179906311"
   },
   "outputs": [
    {
     "name": "stdout",
     "output_type": "stream",
     "text": [
      "Generating the public key for encryption.\n",
      "Public key is: (5, 2021)\n",
      "\n"
     ]
    }
   ],
   "source": [
    "#Generating the public key\n",
    "print('Generating the public key for encryption.')\n",
    "for temp in range (2, phi):\n",
    "    if math.gcd(temp, phi) == 1:\n",
    "        e = temp\n",
    "        break\n",
    "print(\"Public key is: ({}, {})\".format(e, n))\n",
    "print()"
   ]
  },
  {
   "cell_type": "code",
   "execution_count": 15,
   "metadata": {
    "colab": {
     "base_uri": "https://localhost:8080/"
    },
    "id": "p1XYGvQ_VR3o",
    "outputId": "99225093-4625-4f17-bef0-a4ca58820b67"
   },
   "outputs": [
    {
     "name": "stdout",
     "output_type": "stream",
     "text": [
      "Generating the private key for decryption.\n",
      "Private key is: (773, 2021)\n",
      "\n"
     ]
    }
   ],
   "source": [
    "#Generating the private key\n",
    "print('Generating the private key for decryption.')\n",
    "for num in range(2, phi):\n",
    "    if ((e*num) - 1) % phi == 0:\n",
    "        d = num\n",
    "        break\n",
    "print(\"Private key is: ({}, {})\".format(d, n))\n",
    "print()"
   ]
  },
  {
   "cell_type": "code",
   "execution_count": 53,
   "metadata": {
    "colab": {
     "base_uri": "https://localhost:8080/"
    },
    "id": "E-9TwysDU2GF",
    "outputId": "700a5d58-8c38-411a-edf0-bae3a056000b"
   },
   "outputs": [
    {
     "name": "stdout",
     "output_type": "stream",
     "text": [
      "Encryption process\n",
      "Message to be encrypted is: 111 (ka)\n",
      "Encrypted Cipher text is: 927\n"
     ]
    }
   ],
   "source": [
    "#Encryption\n",
    "print('Encryption process')\n",
    "#plainText = 'ador' 'aware' 'less', 'angel' 'anua', 'agile', 'diom', 'blue', 'even', 'here', 'he', 'ga', 'ab', 'id', 'ar', \n",
    "#'bag', 'bab', 'ech', 'and', 'kale'\n",
    "plainText = 'ka'\n",
    "plainTextascii = int(''.join(str(ord(c) - 96) for c in plainText))\n",
    "print(\"Message to be encrypted is: {} ({})\".format(plainTextascii, plainText))\n",
    "\n",
    "cipherText = (plainTextascii ** e) % n\n",
    "print(\"Encrypted Cipher text is: {}\".format(cipherText))"
   ]
  },
  {
   "cell_type": "code",
   "execution_count": 56,
   "metadata": {
    "colab": {
     "base_uri": "https://localhost:8080/"
    },
    "id": "HZ__c5TRVc0W",
    "outputId": "36dbb649-f713-484f-f399-3b46a2e36430"
   },
   "outputs": [
    {
     "name": "stdout",
     "output_type": "stream",
     "text": [
      "Decryption process\n",
      "Decrypted Cipher text is: 111\n"
     ]
    }
   ],
   "source": [
    "#Decryption\n",
    "print('Decryption process')\n",
    "plainTextDecrypted = (cipherText ** d) % n\n",
    "print(\"Decrypted Cipher text is: {}\".format(plainTextDecrypted))"
   ]
  },
  {
   "cell_type": "code",
   "execution_count": 58,
   "metadata": {
    "colab": {
     "base_uri": "https://localhost:8080/"
    },
    "id": "2vsgXBMGVplG",
    "outputId": "b2469d24-47ac-4da1-c1ca-ce727043d427"
   },
   "outputs": [
    {
     "name": "stdout",
     "output_type": "stream",
     "text": [
      "Algorithm successfully verified.\n"
     ]
    }
   ],
   "source": [
    "#Verification\n",
    "if plainTextascii == plainTextDecrypted:\n",
    "    print('Algorithm successfully verified.')\n",
    "else:\n",
    "    print('Error in algorithm.')"
   ]
  },
  {
   "cell_type": "code",
   "execution_count": null,
   "metadata": {},
   "outputs": [],
   "source": []
  }
 ],
 "metadata": {
  "colab": {
   "name": "BasicRSAFinal.ipynb",
   "provenance": []
  },
  "kernelspec": {
   "display_name": "Python 3 (ipykernel)",
   "language": "python",
   "name": "python3"
  },
  "language_info": {
   "codemirror_mode": {
    "name": "ipython",
    "version": 3
   },
   "file_extension": ".py",
   "mimetype": "text/x-python",
   "name": "python",
   "nbconvert_exporter": "python",
   "pygments_lexer": "ipython3",
   "version": "3.9.7"
  }
 },
 "nbformat": 4,
 "nbformat_minor": 1
}
